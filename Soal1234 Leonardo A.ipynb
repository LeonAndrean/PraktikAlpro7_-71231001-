{
 "cells": [
  {
   "cell_type": "code",
   "execution_count": 2,
   "metadata": {},
   "outputs": [
    {
     "name": "stdout",
     "output_type": "stream",
     "text": [
      "ANAGRAM\n"
     ]
    }
   ],
   "source": [
    "#Soal1\n",
    "# Buatlah sebuah program yang dapat mendeteksi apakah suatu kata adalah anagram dari kata lainnya atau bukan!\n",
    "# Anagram adalah kata yang dibolak-balik susunan hurufnya sama.\n",
    "# Misal: mata anagram dengan atma, maat, taam, tama, dsb\n",
    "kata1 = str(input(\"Masukkan kata pertama: \"))\n",
    "kata2 = str(input(\"Masukkan kata kedua: \"))\n",
    "def program_anagram (kata1, kata2):\n",
    "    if (sorted(kata1) == sorted(kata2)):\n",
    "        print(\"ANAGRAM\")\n",
    "    else:\n",
    "        print(\"BUKAN ANAGRAM\")\n",
    "program_anagram(kata1, kata2)\n"
   ]
  },
  {
   "cell_type": "code",
   "execution_count": 10,
   "metadata": {},
   "outputs": [
    {
     "name": "stdout",
     "output_type": "stream",
     "text": [
      "Frekuensi kemunculan kata 'makan' dalam kalimat 'Saya mau makan. Makan itu wajib. Mau siang atau malam saya wajib makan' adalah 3.\n"
     ]
    }
   ],
   "source": [
    "#Soal2\n",
    "# Buatlah suatu program yang dapat menghitung frekuensi kemunculan suatu kata yang ada pada String.\n",
    "# Misal terdapat kalimat \"Saya mau makan. Makan itu wajib. Mau siang atau malam saya wajib makan\".\n",
    "# Ditanyakan kata \"makan\". Output: makan ada 3 buah\n",
    "kalimat_int = input(\"Masukkan input kata yang pertama: \")\n",
    "kata_int = input(\"Masukkan input kata yang kedua: \")\n",
    "\n",
    "def frekuensi(kalimat, kata):\n",
    "    kalimat = kalimat.lower()\n",
    "    jumlah_kata = kalimat.count(kata)\n",
    "    return jumlah_kata\n",
    "hasil = frekuensi(kalimat_int, kata_int)\n",
    "print(f\"Frekuensi kemunculan kata '{kata_int}' dalam kalimat '{kalimat_int}' adalah {hasil}.\")"
   ]
  },
  {
   "cell_type": "code",
   "execution_count": 11,
   "metadata": {},
   "outputs": [
    {
     "name": "stdout",
     "output_type": "stream",
     "text": [
      "Kalimat setelah dihapus spasi berlebih: saya tidak suka memancing ikan\n"
     ]
    }
   ],
   "source": [
    "#Soal3\n",
    "#Buatlah suatu program yang dapat menghapus semua spasi yang berlebih pada sebuah string, dan menjadikannya satu spasi normal!\n",
    "# Misal: \"saya tidak suka memancing ikan \"\n",
    "# Output: \"saya tidak suka memancing ikan\"\n",
    "kalimat1 = input(\"Ketiklah kalimatmu: \")\n",
    "\n",
    "def program(sepasi):\n",
    "    sepasi = \" \".join(sepasi.split())\n",
    "    return sepasi\n",
    "hasil = program(kalimat1)\n",
    "print(\"Kalimat setelah dihapus spasi berlebih:\", hasil)"
   ]
  },
  {
   "cell_type": "code",
   "execution_count": 9,
   "metadata": {},
   "outputs": [
    {
     "name": "stdout",
     "output_type": "stream",
     "text": [
      "Kata terpendek: a\n",
      "Kata terpanjang: snakes\n"
     ]
    }
   ],
   "source": [
    "#soal4\n",
    "#Buatlah suatu program mengetahui kata terpendek dan terpanjang dari suatu kalimat yang diinputkan!\n",
    "# Misal: \"red snakes and a black frog in the pool\"\n",
    "# Output: terpendek: a, terpanjang: snakes\n",
    "kalimat = input(\"Masukkan kalimat: \")\n",
    "kata_kalimat = kalimat.split()\n",
    "\n",
    "kata_terpendek = kata_kalimat[0]\n",
    "kata_terpanjang = kata_kalimat[0]\n",
    "\n",
    "for kata in kata_kalimat:\n",
    "    if len(kata) < len(kata_terpendek):\n",
    "        kata_terpendek = kata\n",
    "    if len(kata) > len(kata_terpanjang):\n",
    "        kata_terpanjang = kata\n",
    "\n",
    "print(\"Kata terpendek:\", kata_terpendek)\n",
    "print(\"Kata terpanjang:\", kata_terpanjang)\n"
   ]
  }
 ],
 "metadata": {
  "kernelspec": {
   "display_name": "Python 3",
   "language": "python",
   "name": "python3"
  },
  "language_info": {
   "codemirror_mode": {
    "name": "ipython",
    "version": 3
   },
   "file_extension": ".py",
   "mimetype": "text/x-python",
   "name": "python",
   "nbconvert_exporter": "python",
   "pygments_lexer": "ipython3",
   "version": "3.11.4"
  }
 },
 "nbformat": 4,
 "nbformat_minor": 2
}
